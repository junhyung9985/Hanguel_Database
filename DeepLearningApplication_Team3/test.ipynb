{
 "cells": [
  {
   "cell_type": "code",
   "execution_count": null,
   "metadata": {},
   "outputs": [],
   "source": [
    "import numpy as np\n",
    "import torch\n",
    "import torch.nn as nn\n",
    "import torch.optim as optim\n",
    "import torch.nn.init as init\n",
    "import torchvision\n",
    "from torchvision import datasets, models, transforms\n",
    "from torch.utils.data import DataLoader\n",
    "from torch.autograd import Variable\n",
    "import os\n",
    "import warnings\n",
    "warnings.filterwarnings(\"ignore\")"
   ]
  },
  {
   "cell_type": "code",
   "execution_count": null,
   "metadata": {},
   "outputs": [],
   "source": [
    "\n",
    "class MyCNN(nn.Module):\n",
    "    def __init__(self, output_dim=10):\n",
    "        super(MyCNN, self).__init__()\n",
    "\n",
    "        self.output_dim = output_dim\n",
    "\n",
    "        self.cnn_layers = nn.Sequential(\n",
    "            nn.Conv2d(3, 32, 3, padding=1),  # try with different kernels\n",
    "            nn.BatchNorm2d(32),\n",
    "            nn.ReLU(),\n",
    "            nn.Conv2d(32, 32, 3, padding=1),\n",
    "            nn.BatchNorm2d(32),\n",
    "            nn.ReLU(),\n",
    "            nn.MaxPool2d(2, 2),  # 32 x (25x25)\n",
    "\n",
    "            nn.Conv2d(32, 16, 3, padding=1),\n",
    "            nn.BatchNorm2d(16),\n",
    "            nn.ReLU(),\n",
    "            nn.Conv2d(16, 16, 3, padding=1),\n",
    "            nn.BatchNorm2d(16),\n",
    "            nn.ReLU(),\n",
    "            nn.MaxPool2d(2, 2)  # 16 x (5x5)\n",
    "        )\n",
    "        self.fc_layer = nn.Sequential(\n",
    "            nn.Linear(16 * 7 * 7, 100),\n",
    "            nn.BatchNorm1d(100),\n",
    "            nn.ReLU(),\n",
    "            nn.Linear(100, output_dim)\n",
    "        )\n",
    "\n",
    "    def forward(self, x):\n",
    "        out = self.cnn_layers(x)\n",
    "        out = out.view(out.shape[0], -1)\n",
    "        out = self.fc_layer(out)\n",
    "\n",
    "        return out"
   ]
  },
  {
   "cell_type": "code",
   "execution_count": null,
   "metadata": {},
   "outputs": [],
   "source": [
    "\n",
    "data_transforms = {\n",
    "    'train': transforms.Compose([\n",
    "        transforms.Resize(28,28),\n",
    "        transforms.ToTensor(),\n",
    "        transforms.Normalize([0.5, 0.5, 0.5], [0.3, 0.3, 0.3])\n",
    "    ]),\n",
    "    'test': transforms.Compose([\n",
    "        transforms.Resize(28,28),\n",
    "        transforms.ToTensor(),\n",
    "        transforms.Normalize([0.5, 0.5, 0.5], [0.3, 0.3, 0.3])\n",
    "    ]),\n",
    "}\n",
    "\n",
    "test_transform = data_transforms['test']\n",
    "test_batch_size = 10\n",
    "data_dir = '/home/junhyung9985/Hanguel_Database/'\n",
    "test_dir = 'test'\n",
    "test_set = datasets.ImageFolder(test_dir, test_transform)\n",
    "test_loader = torch.utils.data.DataLoader(test_set, batch_size=test_batch_size, shuffle=False, num_workers=4)\n",
    "\n"
   ]
  },
  {
   "cell_type": "code",
   "execution_count": null,
   "metadata": {},
   "outputs": [],
   "source": [
    "\n",
    "result_dir = '/home/junhyung9985/Hanguel_Database/result/'\n",
    "model_name = input(\"Input(model_name): \")\n",
    "\n",
    "model = torch.load(result_dir + model_name)\n",
    "model.cuda()\n",
    "model.eval()\n",
    "hits = 0\n",
    "\n",
    "for k, [image, label] in enumerate(test_loader):\n",
    "    x = image.cuda()\n",
    "    y_ = label.cuda()\n",
    "\n",
    "    output = model(x)\n",
    "    y_est = output.argmax(1)\n",
    "    print('Target', label.numpy(), 'Prediction', y_est.cpu().numpy())\n",
    "    hits = hits + sum(y_est == y_)\n",
    "print('hits, accuracy', hits, hits / (len(test_set) + 0.0))\n"
   ]
  }
 ],
 "metadata": {
  "kernelspec": {
   "display_name": "Python 3.7",
   "language": "python",
   "name": "py37"
  },
  "language_info": {
   "codemirror_mode": {
    "name": "ipython",
    "version": 3
   },
   "file_extension": ".py",
   "mimetype": "text/x-python",
   "name": "python",
   "nbconvert_exporter": "python",
   "pygments_lexer": "ipython3",
   "version": "3.7.5"
  }
 },
 "nbformat": 4,
 "nbformat_minor": 2
}
